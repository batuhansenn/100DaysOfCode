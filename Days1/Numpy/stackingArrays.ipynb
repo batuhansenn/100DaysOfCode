{
 "cells": [
  {
   "cell_type": "code",
   "execution_count": 1,
   "metadata": {},
   "outputs": [],
   "source": [
    "import numpy as np"
   ]
  },
  {
   "cell_type": "code",
   "execution_count": 2,
   "metadata": {},
   "outputs": [],
   "source": [
    "array1 = np.array([[1,2], [3,4]])\n",
    "array2 = np.array([[-1,-2], [-3,-4]])"
   ]
  },
  {
   "cell_type": "code",
   "execution_count": 4,
   "metadata": {},
   "outputs": [
    {
     "name": "stdout",
     "output_type": "stream",
     "text": [
      "array1:\n",
      " [[1 2]\n",
      " [3 4]]\n",
      "array2:\n",
      " [[-1 -2]\n",
      " [-3 -4]]\n"
     ]
    }
   ],
   "source": [
    "print(\"array1:\\n\", array1)\n",
    "print(\"array2:\\n\", array2)"
   ]
  },
  {
   "cell_type": "code",
   "execution_count": 7,
   "metadata": {},
   "outputs": [],
   "source": [
    "# veritical\n",
    "#array([[1, 2],\n",
    "#       ［3,4JJ）\n",
    "#array([[-1, -2],\n",
    "#       [-3,-4］］）\n",
    " \n",
    "array3 = np.vstack((array1, array2))\n",
    " \n",
    "# horizontal|\n",
    "# array([[1, 2],[-1, -2],\n",
    "#       [3, 4]], [-3, -4]1|\n",
    "\n",
    "array4 = np.hstack((array1, array2))"
   ]
  },
  {
   "cell_type": "code",
   "execution_count": 8,
   "metadata": {},
   "outputs": [
    {
     "name": "stdout",
     "output_type": "stream",
     "text": [
      "array3:\n",
      " [[ 1  2]\n",
      " [ 3  4]\n",
      " [-1 -2]\n",
      " [-3 -4]]\n",
      "array4:\n",
      " [[ 1  2 -1 -2]\n",
      " [ 3  4 -3 -4]]\n"
     ]
    }
   ],
   "source": [
    "print(\"array3:\\n\", array3)\n",
    "\n",
    "print(\"array4:\\n\", array4)"
   ]
  },
  {
   "cell_type": "code",
   "execution_count": null,
   "metadata": {},
   "outputs": [],
   "source": []
  }
 ],
 "metadata": {
  "kernelspec": {
   "display_name": "base",
   "language": "python",
   "name": "python3"
  },
  "language_info": {
   "codemirror_mode": {
    "name": "ipython",
    "version": 3
   },
   "file_extension": ".py",
   "mimetype": "text/x-python",
   "name": "python",
   "nbconvert_exporter": "python",
   "pygments_lexer": "ipython3",
   "version": "3.10.9"
  },
  "orig_nbformat": 4
 },
 "nbformat": 4,
 "nbformat_minor": 2
}
