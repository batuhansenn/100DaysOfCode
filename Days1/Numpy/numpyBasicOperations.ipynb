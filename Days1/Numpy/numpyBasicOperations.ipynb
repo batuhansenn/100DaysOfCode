{
 "cells": [
  {
   "cell_type": "code",
   "execution_count": 1,
   "metadata": {},
   "outputs": [],
   "source": [
    "import numpy as np"
   ]
  },
  {
   "cell_type": "code",
   "execution_count": 4,
   "metadata": {},
   "outputs": [
    {
     "name": "stdout",
     "output_type": "stream",
     "text": [
      "a + b =  [5 7 9]\n",
      "a - b =  [-3 -3 -3]\n",
      "a ** b =  [  1  32 729]\n"
     ]
    }
   ],
   "source": [
    "a = np.array([1, 2, 3]) \n",
    "b = np.array([4, 5, 6])\n",
    "\n",
    "print(\"a + b = \", a + b)\n",
    "print(\"a - b = \", a - b)\n",
    "print(\"a ** b = \", a ** b)"
   ]
  },
  {
   "cell_type": "code",
   "execution_count": 7,
   "metadata": {},
   "outputs": [
    {
     "name": "stdout",
     "output_type": "stream",
     "text": [
      "[0.84147098 0.90929743 0.14112001]\n"
     ]
    },
    {
     "data": {
      "text/plain": [
       "array([ True, False, False])"
      ]
     },
     "execution_count": 7,
     "metadata": {},
     "output_type": "execute_result"
    }
   ],
   "source": [
    "print(np.sin(a))\n",
    "a<2"
   ]
  },
  {
   "cell_type": "code",
   "execution_count": 8,
   "metadata": {},
   "outputs": [
    {
     "name": "stdout",
     "output_type": "stream",
     "text": [
      "a * b =  [[ 1  4  9]\n",
      " [16 25 36]]\n"
     ]
    }
   ],
   "source": [
    "a = np.array([[1, 2, 3], [4, 5, 6]])\n",
    "b = np.array([[1, 2, 3], [4, 5, 6]])\n",
    "\n",
    "# eLement wise prodcut|\n",
    "print(\"a * b = \", a * b)"
   ]
  },
  {
   "cell_type": "code",
   "execution_count": 10,
   "metadata": {},
   "outputs": [
    {
     "name": "stdout",
     "output_type": "stream",
     "text": [
      "[[1 4]\n",
      " [2 5]\n",
      " [3 6]]\n"
     ]
    }
   ],
   "source": [
    "# matrix prodcut\n",
    "a.dot(b.T)\n",
    "print(a.T)"
   ]
  },
  {
   "cell_type": "code",
   "execution_count": 11,
   "metadata": {},
   "outputs": [
    {
     "name": "stdout",
     "output_type": "stream",
     "text": [
      "[[  2.71828183   7.3890561   20.08553692]\n",
      " [ 54.59815003 148.4131591  403.42879349]]\n"
     ]
    }
   ],
   "source": [
    "print(np.exp(a))\n"
   ]
  },
  {
   "cell_type": "code",
   "execution_count": 12,
   "metadata": {},
   "outputs": [
    {
     "name": "stdout",
     "output_type": "stream",
     "text": [
      "[[0.56111704 0.50736305 0.69518761 0.39027036 0.01400974]\n",
      " [0.20250269 0.52337821 0.14872875 0.42864065 0.82224142]\n",
      " [0.70074198 0.60698241 0.43533964 0.64253985 0.05394689]\n",
      " [0.8314249  0.88808119 0.09213561 0.94482508 0.67252622]\n",
      " [0.94977254 0.96025951 0.6145115  0.43391904 0.58933723]]\n"
     ]
    }
   ],
   "source": [
    "a = np.random.random((5,5))\n",
    "print(a)"
   ]
  },
  {
   "cell_type": "code",
   "execution_count": 14,
   "metadata": {},
   "outputs": [
    {
     "name": "stdout",
     "output_type": "stream",
     "text": [
      "13.709783118632666\n",
      "0.9602595145270444\n",
      "0.014009735470321694\n"
     ]
    }
   ],
   "source": [
    "print(a.sum())\n",
    "print(a.max())\n",
    "print(a.min())"
   ]
  },
  {
   "cell_type": "code",
   "execution_count": 16,
   "metadata": {},
   "outputs": [
    {
     "name": "stdout",
     "output_type": "stream",
     "text": [
      "[3.24555914 3.48606438 1.98590312 2.84019498 2.1520615 ]\n",
      "[2.1679478  2.12549172 2.43955077 3.428993   3.54779983]\n"
     ]
    }
   ],
   "source": [
    "print(a.sum(axis=0))\n",
    "print(a.sum(axis=1))"
   ]
  },
  {
   "cell_type": "code",
   "execution_count": 21,
   "metadata": {},
   "outputs": [
    {
     "name": "stdout",
     "output_type": "stream",
     "text": [
      "[[0.74907746 0.71229422 0.83377911 0.62471623 0.11836273]\n",
      " [0.45000299 0.72344883 0.38565367 0.65470654 0.90677529]\n",
      " [0.83710333 0.77909076 0.65980273 0.80158583 0.2322647 ]\n",
      " [0.91182504 0.9423806  0.30353848 0.97202113 0.82007696]\n",
      " [0.97456274 0.97992832 0.78390784 0.65872531 0.76768303]]\n",
      "[[3.14852328e-01 2.57417266e-01 4.83285815e-01 1.52310957e-01\n",
      "  1.96272688e-04]\n",
      " [4.10073384e-02 2.73924749e-01 2.21202423e-02 1.83732807e-01\n",
      "  6.76080955e-01]\n",
      " [4.91039322e-01 3.68427643e-01 1.89520601e-01 4.12857459e-01\n",
      "  2.91026692e-03]\n",
      " [6.91267362e-01 7.88688207e-01 8.48897086e-03 8.92694428e-01\n",
      "  4.52291517e-01]\n",
      " [9.02067883e-01 9.22098335e-01 3.77624388e-01 1.88285731e-01\n",
      "  3.47318373e-01]]\n"
     ]
    }
   ],
   "source": [
    "print(np.sqrt(a))\n",
    "print(np.square(a))"
   ]
  },
  {
   "cell_type": "code",
   "execution_count": null,
   "metadata": {},
   "outputs": [],
   "source": []
  }
 ],
 "metadata": {
  "kernelspec": {
   "display_name": "base",
   "language": "python",
   "name": "python3"
  },
  "language_info": {
   "codemirror_mode": {
    "name": "ipython",
    "version": 3
   },
   "file_extension": ".py",
   "mimetype": "text/x-python",
   "name": "python",
   "nbconvert_exporter": "python",
   "pygments_lexer": "ipython3",
   "version": "3.10.9"
  },
  "orig_nbformat": 4
 },
 "nbformat": 4,
 "nbformat_minor": 2
}
