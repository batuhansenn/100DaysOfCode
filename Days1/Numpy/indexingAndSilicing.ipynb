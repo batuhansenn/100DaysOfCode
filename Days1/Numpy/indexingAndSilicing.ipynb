{
 "cells": [
  {
   "cell_type": "code",
   "execution_count": 1,
   "metadata": {},
   "outputs": [],
   "source": [
    "import numpy as np"
   ]
  },
  {
   "cell_type": "code",
   "execution_count": 2,
   "metadata": {},
   "outputs": [],
   "source": [
    "array =  np.array([1,2,3,4,5,6,7])"
   ]
  },
  {
   "cell_type": "code",
   "execution_count": 3,
   "metadata": {},
   "outputs": [
    {
     "name": "stdout",
     "output_type": "stream",
     "text": [
      "1\n",
      "[1 2 3]\n"
     ]
    }
   ],
   "source": [
    "print(array[0]) # 1\n",
    "print(array[0:3]) # [1 2 3]"
   ]
  },
  {
   "cell_type": "code",
   "execution_count": 5,
   "metadata": {},
   "outputs": [
    {
     "name": "stdout",
     "output_type": "stream",
     "text": [
      "[7 6 5 4 3 2 1]\n"
     ]
    }
   ],
   "source": [
    "reversed_array = array[::-1] \n",
    "print(reversed_array) # [7 6 5 4 3 2 1]"
   ]
  },
  {
   "cell_type": "code",
   "execution_count": 10,
   "metadata": {},
   "outputs": [
    {
     "name": "stdout",
     "output_type": "stream",
     "text": [
      "[[ 1  2  3  4  5]\n",
      " [ 6  7  8  9 10]]\n",
      "-------------------\n",
      "7\n",
      "-------------------\n",
      "[2 7]\n",
      "-------------------\n",
      "[7 8 9]\n",
      "-------------------\n",
      "[ 6  7  8  9 10]\n"
     ]
    }
   ],
   "source": [
    "array1 = np.array([[1,2,3,4,5], [6,7,8,9,10]])\n",
    "print(array1)\n",
    "print(\"-------------------\")\n",
    "print(array1[1,1]) # 7\n",
    "print(\"-------------------\")\n",
    "print(array1[:,1]) # [2 7]\n",
    "print(\"-------------------\")\n",
    "print(array1[1,1:4]) # [7 8 9]\n",
    "print(\"-------------------\")\n",
    "print(array1[-1,:]) # [ 6  7  8  9 10]"
   ]
  },
  {
   "cell_type": "code",
   "execution_count": null,
   "metadata": {},
   "outputs": [],
   "source": []
  }
 ],
 "metadata": {
  "kernelspec": {
   "display_name": "base",
   "language": "python",
   "name": "python3"
  },
  "language_info": {
   "codemirror_mode": {
    "name": "ipython",
    "version": 3
   },
   "file_extension": ".py",
   "mimetype": "text/x-python",
   "name": "python",
   "nbconvert_exporter": "python",
   "pygments_lexer": "ipython3",
   "version": "3.10.9"
  },
  "orig_nbformat": 4
 },
 "nbformat": 4,
 "nbformat_minor": 2
}
